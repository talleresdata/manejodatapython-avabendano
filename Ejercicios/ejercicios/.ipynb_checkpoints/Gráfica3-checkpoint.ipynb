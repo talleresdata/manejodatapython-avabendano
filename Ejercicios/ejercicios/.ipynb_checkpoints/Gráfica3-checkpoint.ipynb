{
 "cells": [
  {
   "cell_type": "markdown",
   "metadata": {},
   "source": [
    "# Ejemplos de Representación gráfica."
   ]
  },
  {
   "cell_type": "markdown",
   "metadata": {},
   "source": [
    "## Impotamos las librerias"
   ]
  },
  {
   "cell_type": "code",
   "execution_count": 1,
   "metadata": {},
   "outputs": [],
   "source": [
    "import pandas as pd\n",
    "import matplotlib.pyplot as plt\n",
    "import matplotlib\n",
    "\n",
    "from  matplotlib.ticker import FuncFormatter\n",
    "\n",
    "%matplotlib inline\n"
   ]
  },
  {
   "cell_type": "markdown",
   "metadata": {},
   "source": [
    "## Datos desde el archivo JSON"
   ]
  },
  {
   "cell_type": "code",
   "execution_count": 2,
   "metadata": {
    "scrolled": false
   },
   "outputs": [
    {
     "data": {
      "text/html": [
       "<div>\n",
       "<style scoped>\n",
       "    .dataframe tbody tr th:only-of-type {\n",
       "        vertical-align: middle;\n",
       "    }\n",
       "\n",
       "    .dataframe tbody tr th {\n",
       "        vertical-align: top;\n",
       "    }\n",
       "\n",
       "    .dataframe thead th {\n",
       "        text-align: right;\n",
       "    }\n",
       "</style>\n",
       "<table border=\"1\" class=\"dataframe\">\n",
       "  <thead>\n",
       "    <tr style=\"text-align: right;\">\n",
       "      <th></th>\n",
       "      <th>accept_language</th>\n",
       "      <th>agent</th>\n",
       "      <th>context</th>\n",
       "      <th>event</th>\n",
       "      <th>event_source</th>\n",
       "      <th>event_type</th>\n",
       "      <th>host</th>\n",
       "      <th>ip</th>\n",
       "      <th>name</th>\n",
       "      <th>page</th>\n",
       "      <th>referer</th>\n",
       "      <th>session</th>\n",
       "      <th>time</th>\n",
       "      <th>username</th>\n",
       "    </tr>\n",
       "  </thead>\n",
       "  <tbody>\n",
       "    <tr>\n",
       "      <th>9261</th>\n",
       "      <td>es-MX,es;q=0.8,en-US;q=0.5,en;q=0.3</td>\n",
       "      <td>Mozilla/5.0 (Windows NT 6.1; Win64; x64; rv:66...</td>\n",
       "      <td>{'course_user_tags': {}, 'user_id': 10268, 'or...</td>\n",
       "      <td>{\"POST\": {\"saved_video_position\": [\"00:07:35\"]...</td>\n",
       "      <td>server</td>\n",
       "      <td>/courses/course-v1:UTPL+SARH5+2019_1/xblock/bl...</td>\n",
       "      <td>opencampus.utpl.edu.ec</td>\n",
       "      <td>190.111.82.98</td>\n",
       "      <td>NaN</td>\n",
       "      <td>None</td>\n",
       "      <td>http://opencampus.utpl.edu.ec/courses/course-v...</td>\n",
       "      <td>NaN</td>\n",
       "      <td>2019-05-06T16:53:03.751742+00:00</td>\n",
       "      <td>JHPIURE</td>\n",
       "    </tr>\n",
       "    <tr>\n",
       "      <th>18852</th>\n",
       "      <td>es-ES,es;q=0.9</td>\n",
       "      <td>Mozilla/5.0 (Windows NT 6.1) AppleWebKit/537.3...</td>\n",
       "      <td>{'user_id': 24128, 'org_id': '', 'course_id': ...</td>\n",
       "      <td>{\"POST\": {}, \"GET\": {}}</td>\n",
       "      <td>server</td>\n",
       "      <td>/i18n.js</td>\n",
       "      <td>opencampus.utpl.edu.ec</td>\n",
       "      <td>181.112.105.5</td>\n",
       "      <td>NaN</td>\n",
       "      <td>None</td>\n",
       "      <td>http://opencampus.utpl.edu.ec/courses/course-v...</td>\n",
       "      <td>NaN</td>\n",
       "      <td>2019-05-07T18:48:42.324380+00:00</td>\n",
       "      <td>YadiraTobar</td>\n",
       "    </tr>\n",
       "    <tr>\n",
       "      <th>11334</th>\n",
       "      <td>es-ES,es;q=0.9</td>\n",
       "      <td>Mozilla/5.0 (Windows NT 6.1) AppleWebKit/537.3...</td>\n",
       "      <td>{'user_id': 24379, 'org_id': '', 'course_id': ...</td>\n",
       "      <td>{\"POST\": {}, \"GET\": {}}</td>\n",
       "      <td>server</td>\n",
       "      <td>/i18n.js</td>\n",
       "      <td>opencampus.utpl.edu.ec</td>\n",
       "      <td>186.46.113.31</td>\n",
       "      <td>NaN</td>\n",
       "      <td>None</td>\n",
       "      <td>http://opencampus.utpl.edu.ec/courses/course-v...</td>\n",
       "      <td>NaN</td>\n",
       "      <td>2019-05-06T21:01:44.902346+00:00</td>\n",
       "      <td>danilo_86</td>\n",
       "    </tr>\n",
       "    <tr>\n",
       "      <th>24958</th>\n",
       "      <td>es-ES</td>\n",
       "      <td>Mozilla/5.0 (Windows NT 10.0; Win64; x64) Appl...</td>\n",
       "      <td>{'user_id': 17273, 'org_id': '', 'course_id': ...</td>\n",
       "      <td>{\"POST\": {}, \"GET\": {}}</td>\n",
       "      <td>server</td>\n",
       "      <td>/i18n.js</td>\n",
       "      <td>opencampus.utpl.edu.ec</td>\n",
       "      <td>45.71.114.166</td>\n",
       "      <td>NaN</td>\n",
       "      <td>None</td>\n",
       "      <td>http://opencampus.utpl.edu.ec/courses/course-v...</td>\n",
       "      <td>NaN</td>\n",
       "      <td>2019-05-08T22:04:31.004587+00:00</td>\n",
       "      <td>Tatianamorocho</td>\n",
       "    </tr>\n",
       "    <tr>\n",
       "      <th>2817</th>\n",
       "      <td>es-419,es;q=0.9</td>\n",
       "      <td>Mozilla/5.0 (Windows NT 10.0; Win64; x64) Appl...</td>\n",
       "      <td>{'user_id': '', 'org_id': '', 'course_id': '',...</td>\n",
       "      <td>{\"POST\": {}, \"GET\": {}}</td>\n",
       "      <td>server</td>\n",
       "      <td>/i18n.js</td>\n",
       "      <td>opencampus.utpl.edu.ec</td>\n",
       "      <td>186.178.110.46</td>\n",
       "      <td>NaN</td>\n",
       "      <td>None</td>\n",
       "      <td>http://opencampus.utpl.edu.ec/courses/course-v...</td>\n",
       "      <td>NaN</td>\n",
       "      <td>2019-04-12T03:34:51.113907+00:00</td>\n",
       "      <td></td>\n",
       "    </tr>\n",
       "  </tbody>\n",
       "</table>\n",
       "</div>"
      ],
      "text/plain": [
       "                           accept_language  \\\n",
       "9261   es-MX,es;q=0.8,en-US;q=0.5,en;q=0.3   \n",
       "18852                       es-ES,es;q=0.9   \n",
       "11334                       es-ES,es;q=0.9   \n",
       "24958                                es-ES   \n",
       "2817                       es-419,es;q=0.9   \n",
       "\n",
       "                                                   agent  \\\n",
       "9261   Mozilla/5.0 (Windows NT 6.1; Win64; x64; rv:66...   \n",
       "18852  Mozilla/5.0 (Windows NT 6.1) AppleWebKit/537.3...   \n",
       "11334  Mozilla/5.0 (Windows NT 6.1) AppleWebKit/537.3...   \n",
       "24958  Mozilla/5.0 (Windows NT 10.0; Win64; x64) Appl...   \n",
       "2817   Mozilla/5.0 (Windows NT 10.0; Win64; x64) Appl...   \n",
       "\n",
       "                                                 context  \\\n",
       "9261   {'course_user_tags': {}, 'user_id': 10268, 'or...   \n",
       "18852  {'user_id': 24128, 'org_id': '', 'course_id': ...   \n",
       "11334  {'user_id': 24379, 'org_id': '', 'course_id': ...   \n",
       "24958  {'user_id': 17273, 'org_id': '', 'course_id': ...   \n",
       "2817   {'user_id': '', 'org_id': '', 'course_id': '',...   \n",
       "\n",
       "                                                   event event_source  \\\n",
       "9261   {\"POST\": {\"saved_video_position\": [\"00:07:35\"]...       server   \n",
       "18852                            {\"POST\": {}, \"GET\": {}}       server   \n",
       "11334                            {\"POST\": {}, \"GET\": {}}       server   \n",
       "24958                            {\"POST\": {}, \"GET\": {}}       server   \n",
       "2817                             {\"POST\": {}, \"GET\": {}}       server   \n",
       "\n",
       "                                              event_type  \\\n",
       "9261   /courses/course-v1:UTPL+SARH5+2019_1/xblock/bl...   \n",
       "18852                                           /i18n.js   \n",
       "11334                                           /i18n.js   \n",
       "24958                                           /i18n.js   \n",
       "2817                                            /i18n.js   \n",
       "\n",
       "                         host              ip name  page  \\\n",
       "9261   opencampus.utpl.edu.ec   190.111.82.98  NaN  None   \n",
       "18852  opencampus.utpl.edu.ec   181.112.105.5  NaN  None   \n",
       "11334  opencampus.utpl.edu.ec   186.46.113.31  NaN  None   \n",
       "24958  opencampus.utpl.edu.ec   45.71.114.166  NaN  None   \n",
       "2817   opencampus.utpl.edu.ec  186.178.110.46  NaN  None   \n",
       "\n",
       "                                                 referer session  \\\n",
       "9261   http://opencampus.utpl.edu.ec/courses/course-v...     NaN   \n",
       "18852  http://opencampus.utpl.edu.ec/courses/course-v...     NaN   \n",
       "11334  http://opencampus.utpl.edu.ec/courses/course-v...     NaN   \n",
       "24958  http://opencampus.utpl.edu.ec/courses/course-v...     NaN   \n",
       "2817   http://opencampus.utpl.edu.ec/courses/course-v...     NaN   \n",
       "\n",
       "                                   time        username  \n",
       "9261   2019-05-06T16:53:03.751742+00:00         JHPIURE  \n",
       "18852  2019-05-07T18:48:42.324380+00:00     YadiraTobar  \n",
       "11334  2019-05-06T21:01:44.902346+00:00       danilo_86  \n",
       "24958  2019-05-08T22:04:31.004587+00:00  Tatianamorocho  \n",
       "2817   2019-04-12T03:34:51.113907+00:00                  "
      ]
     },
     "execution_count": 2,
     "metadata": {},
     "output_type": "execute_result"
    }
   ],
   "source": [
    "informacion = pd.read_json('data/log-course2.json')\n",
    "informacion.sample(5)"
   ]
  },
  {
   "cell_type": "markdown",
   "metadata": {},
   "source": [
    "## Comprobamos los valores unicos de la columna `host`"
   ]
  },
  {
   "cell_type": "code",
   "execution_count": 3,
   "metadata": {},
   "outputs": [
    {
     "data": {
      "text/plain": [
       "array(['opencampus.utpl.edu.ec', 'soer.utpl.edu.ec', 'opencampus'],\n",
       "      dtype=object)"
      ]
     },
     "execution_count": 3,
     "metadata": {},
     "output_type": "execute_result"
    }
   ],
   "source": [
    "informacion.host.unique()"
   ]
  },
  {
   "cell_type": "markdown",
   "metadata": {},
   "source": [
    "Agrupamos los valores por la columna `hosts` y usamos el metodo `count`, para obtener el total de veces que aparece un `host`."
   ]
  },
  {
   "cell_type": "code",
   "execution_count": 4,
   "metadata": {},
   "outputs": [
    {
     "data": {
      "text/html": [
       "<div>\n",
       "<style scoped>\n",
       "    .dataframe tbody tr th:only-of-type {\n",
       "        vertical-align: middle;\n",
       "    }\n",
       "\n",
       "    .dataframe tbody tr th {\n",
       "        vertical-align: top;\n",
       "    }\n",
       "\n",
       "    .dataframe thead th {\n",
       "        text-align: right;\n",
       "    }\n",
       "</style>\n",
       "<table border=\"1\" class=\"dataframe\">\n",
       "  <thead>\n",
       "    <tr style=\"text-align: right;\">\n",
       "      <th></th>\n",
       "      <th>host</th>\n",
       "      <th>session</th>\n",
       "    </tr>\n",
       "  </thead>\n",
       "  <tbody>\n",
       "    <tr>\n",
       "      <th>0</th>\n",
       "      <td>opencampus</td>\n",
       "      <td>4</td>\n",
       "    </tr>\n",
       "    <tr>\n",
       "      <th>1</th>\n",
       "      <td>opencampus.utpl.edu.ec</td>\n",
       "      <td>13358</td>\n",
       "    </tr>\n",
       "    <tr>\n",
       "      <th>2</th>\n",
       "      <td>soer.utpl.edu.ec</td>\n",
       "      <td>1</td>\n",
       "    </tr>\n",
       "  </tbody>\n",
       "</table>\n",
       "</div>"
      ],
      "text/plain": [
       "                     host  session\n",
       "0              opencampus        4\n",
       "1  opencampus.utpl.edu.ec    13358\n",
       "2        soer.utpl.edu.ec        1"
      ]
     },
     "execution_count": 4,
     "metadata": {},
     "output_type": "execute_result"
    }
   ],
   "source": [
    "info_hosts = informacion[['host', 'session']].groupby(['host'], as_index=False).count()\n",
    "info_hosts"
   ]
  },
  {
   "cell_type": "markdown",
   "metadata": {},
   "source": [
    "Convertimos las columnas a tipos de datos `array`"
   ]
  },
  {
   "cell_type": "code",
   "execution_count": 5,
   "metadata": {},
   "outputs": [],
   "source": [
    "x = info_hosts.host.values\n",
    "y = info_hosts.session.values"
   ]
  },
  {
   "cell_type": "markdown",
   "metadata": {},
   "source": [
    "## Graficando los datos"
   ]
  },
  {
   "cell_type": "code",
   "execution_count": 6,
   "metadata": {},
   "outputs": [
    {
     "data": {
      "text/plain": [
       "<BarContainer object of 3 artists>"
      ]
     },
     "execution_count": 6,
     "metadata": {},
     "output_type": "execute_result"
    },
    {
     "data": {
      "image/png": "[encoded data removed]",
      "text/plain": [
       "<Figure size 480x640 with 1 Axes>"
      ]
     },
     "metadata": {
      "needs_background": "light"
     },
     "output_type": "display_data"
    }
   ],
   "source": [
    "plt.figure(figsize=(6,8), dpi=80)\n",
    "plt.title('Numero de accesos a los hosts')\n",
    "plt.bar(x, y)"
   ]
  },
  {
   "cell_type": "markdown",
   "metadata": {},
   "source": [
    "En el grafico anterior no se puede apreciar que los *hosts* *opencampus* y *soer.utpl.edu.ec*, poseen valores, para resover este problema se pasamos la propiedad `log=True`, al metodo `bar`.\n",
    "\n",
    "La propiedad `log` convierte la escala numerica de **y** a una escala logaritmica."
   ]
  },
  {
   "cell_type": "code",
   "execution_count": 7,
   "metadata": {},
   "outputs": [
    {
     "data": {
      "text/plain": [
       "<BarContainer object of 3 artists>"
      ]
     },
     "execution_count": 7,
     "metadata": {},
     "output_type": "execute_result"
    },
    {
     "data": {
      "image/png": "[encoded data removed]",
      "text/plain": [
       "<Figure size 480x640 with 1 Axes>"
      ]
     },
     "metadata": {
      "needs_background": "light"
     },
     "output_type": "display_data"
    }
   ],
   "source": [
    "plt.figure(figsize=(6,8), dpi=80)\n",
    "plt.title('Numero de accesos a los hosts')\n",
    "plt.yticks([1, 10, 100, 1000, 10000])\n",
    "plt.bar(x, y, log=True)"
   ]
  },
  {
   "cell_type": "code",
   "execution_count": null,
   "metadata": {},
   "outputs": [],
   "source": []
  }
 ],
 "metadata": {
  "kernelspec": {
   "display_name": "Python 3",
   "language": "python",
   "name": "python3"
  },
  "language_info": {
   "codemirror_mode": {
    "name": "ipython",
    "version": 3
   },
   "file_extension": ".py",
   "mimetype": "text/x-python",
   "name": "python",
   "nbconvert_exporter": "python",
   "pygments_lexer": "ipython3",
   "version": "3.6.5"
  }
 },
 "nbformat": 4,
 "nbformat_minor": 2
}
